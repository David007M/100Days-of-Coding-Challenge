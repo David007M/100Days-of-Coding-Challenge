{
 "cells": [
  {
   "cell_type": "code",
   "execution_count": 9,
   "metadata": {},
   "outputs": [
    {
     "data": {
      "text/html": [
       "<div>\n",
       "<style scoped>\n",
       "    .dataframe tbody tr th:only-of-type {\n",
       "        vertical-align: middle;\n",
       "    }\n",
       "\n",
       "    .dataframe tbody tr th {\n",
       "        vertical-align: top;\n",
       "    }\n",
       "\n",
       "    .dataframe thead th {\n",
       "        text-align: right;\n",
       "    }\n",
       "</style>\n",
       "<table border=\"1\" class=\"dataframe\">\n",
       "  <thead>\n",
       "    <tr style=\"text-align: right;\">\n",
       "      <th></th>\n",
       "      <th>Symbol</th>\n",
       "      <th>Date</th>\n",
       "      <th>Open</th>\n",
       "      <th>High</th>\n",
       "      <th>Low</th>\n",
       "      <th>Close</th>\n",
       "      <th>Adj Close</th>\n",
       "      <th>Volume</th>\n",
       "    </tr>\n",
       "  </thead>\n",
       "  <tbody>\n",
       "    <tr>\n",
       "      <th>0</th>\n",
       "      <td>RIVN</td>\n",
       "      <td>2021-11-10</td>\n",
       "      <td>106.750000</td>\n",
       "      <td>119.459999</td>\n",
       "      <td>95.199997</td>\n",
       "      <td>100.730003</td>\n",
       "      <td>100.730003</td>\n",
       "      <td>103679500</td>\n",
       "    </tr>\n",
       "    <tr>\n",
       "      <th>1</th>\n",
       "      <td>RIVN</td>\n",
       "      <td>2021-11-11</td>\n",
       "      <td>114.625000</td>\n",
       "      <td>125.000000</td>\n",
       "      <td>108.010002</td>\n",
       "      <td>122.989998</td>\n",
       "      <td>122.989998</td>\n",
       "      <td>83668200</td>\n",
       "    </tr>\n",
       "    <tr>\n",
       "      <th>2</th>\n",
       "      <td>RIVN</td>\n",
       "      <td>2021-11-12</td>\n",
       "      <td>128.645004</td>\n",
       "      <td>135.199997</td>\n",
       "      <td>125.250000</td>\n",
       "      <td>129.949997</td>\n",
       "      <td>129.949997</td>\n",
       "      <td>50437500</td>\n",
       "    </tr>\n",
       "    <tr>\n",
       "      <th>3</th>\n",
       "      <td>RIVN</td>\n",
       "      <td>2021-11-15</td>\n",
       "      <td>130.800003</td>\n",
       "      <td>152.529999</td>\n",
       "      <td>127.510002</td>\n",
       "      <td>149.360001</td>\n",
       "      <td>149.360001</td>\n",
       "      <td>64982300</td>\n",
       "    </tr>\n",
       "    <tr>\n",
       "      <th>4</th>\n",
       "      <td>RIVN</td>\n",
       "      <td>2021-11-16</td>\n",
       "      <td>163.800003</td>\n",
       "      <td>179.470001</td>\n",
       "      <td>153.779999</td>\n",
       "      <td>172.009995</td>\n",
       "      <td>172.009995</td>\n",
       "      <td>94036600</td>\n",
       "    </tr>\n",
       "  </tbody>\n",
       "</table>\n",
       "</div>"
      ],
      "text/plain": [
       "  Symbol        Date        Open        High         Low       Close  \\\n",
       "0   RIVN  2021-11-10  106.750000  119.459999   95.199997  100.730003   \n",
       "1   RIVN  2021-11-11  114.625000  125.000000  108.010002  122.989998   \n",
       "2   RIVN  2021-11-12  128.645004  135.199997  125.250000  129.949997   \n",
       "3   RIVN  2021-11-15  130.800003  152.529999  127.510002  149.360001   \n",
       "4   RIVN  2021-11-16  163.800003  179.470001  153.779999  172.009995   \n",
       "\n",
       "    Adj Close     Volume  \n",
       "0  100.730003  103679500  \n",
       "1  122.989998   83668200  \n",
       "2  129.949997   50437500  \n",
       "3  149.360001   64982300  \n",
       "4  172.009995   94036600  "
      ]
     },
     "execution_count": 9,
     "metadata": {},
     "output_type": "execute_result"
    }
   ],
   "source": [
    "import pandas as pd\n",
    "cars = pd.read_csv(\"data/car_stocks.csv\")\n",
    "cars.head()"
   ]
  },
  {
   "cell_type": "code",
   "execution_count": null,
   "metadata": {},
   "outputs": [],
   "source": [
    " "
   ]
  },
  {
   "cell_type": "code",
   "execution_count": null,
   "metadata": {},
   "outputs": [],
   "source": []
  },
  {
   "cell_type": "code",
   "execution_count": null,
   "metadata": {},
   "outputs": [],
   "source": []
  },
  {
   "cell_type": "code",
   "execution_count": null,
   "metadata": {},
   "outputs": [],
   "source": []
  },
  {
   "cell_type": "code",
   "execution_count": null,
   "metadata": {},
   "outputs": [],
   "source": []
  },
  {
   "cell_type": "code",
   "execution_count": null,
   "metadata": {},
   "outputs": [],
   "source": []
  },
  {
   "cell_type": "code",
   "execution_count": null,
   "metadata": {},
   "outputs": [],
   "source": []
  }
 ],
 "metadata": {
  "kernelspec": {
   "display_name": "Python 3",
   "language": "python",
   "name": "python3"
  },
  "language_info": {
   "codemirror_mode": {
    "name": "ipython",
    "version": 3
   },
   "file_extension": ".py",
   "mimetype": "text/x-python",
   "name": "python",
   "nbconvert_exporter": "python",
   "pygments_lexer": "ipython3",
   "version": "3.10.8"
  },
  "orig_nbformat": 4,
  "vscode": {
   "interpreter": {
    "hash": "72c4c0851369c706d3155995c11b28ff6effc87ed985ac9b468b7049cea669b1"
   }
  }
 },
 "nbformat": 4,
 "nbformat_minor": 2
}
