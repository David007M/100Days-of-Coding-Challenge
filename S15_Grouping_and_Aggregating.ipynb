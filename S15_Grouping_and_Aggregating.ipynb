{
 "cells": [
  {
   "cell_type": "code",
   "execution_count": 1,
   "id": "3eccd9dd",
   "metadata": {},
   "outputs": [],
   "source": [
    "import pandas as pd"
   ]
  },
  {
   "cell_type": "code",
   "execution_count": 53,
   "id": "ab27c890",
   "metadata": {},
   "outputs": [
    {
     "data": {
      "text/plain": [
       "79.83897420512822"
      ]
     },
     "execution_count": 53,
     "metadata": {},
     "output_type": "execute_result"
    }
   ],
   "source": [
    "cars[\"Close\"].mean()"
   ]
  },
  {
   "cell_type": "code",
   "execution_count": 54,
   "id": "186c56a1",
   "metadata": {},
   "outputs": [
    {
     "data": {
      "text/plain": [
       "127.52307653846154"
      ]
     },
     "execution_count": 54,
     "metadata": {},
     "output_type": "execute_result"
    }
   ],
   "source": [
    "cars[cars[\"Symbol\"] == \"RIVN\"][\"Close\"].mean()"
   ]
  },
  {
   "cell_type": "code",
   "execution_count": 13,
   "id": "809d3400",
   "metadata": {},
   "outputs": [
    {
     "data": {
      "text/plain": [
       "Symbol\n",
       "GM       62.164615\n",
       "LCID     49.829231\n",
       "RIVN    127.523077\n",
       "Name: Close, dtype: float64"
      ]
     },
     "execution_count": 13,
     "metadata": {},
     "output_type": "execute_result"
    }
   ],
   "source": [
    "# Grouped by Symbol and shown the Mean value of the Closing price for each.\n",
    "cars.groupby(\"Symbol\")[\"Close\"].mean()"
   ]
  },
  {
   "cell_type": "code",
   "execution_count": 23,
   "id": "16042a8d",
   "metadata": {},
   "outputs": [],
   "source": [
    "titanic[\"age\"] = titanic[\"age\"].replace(['?'], [None]).astype('float')\n",
    "df = titanic[[\"survived\", \"pclass\", \"sex\", \"age\"]]"
   ]
  },
  {
   "cell_type": "code",
   "execution_count": 26,
   "id": "3b7d19a1",
   "metadata": {},
   "outputs": [
    {
     "data": {
      "text/plain": [
       "2"
      ]
     },
     "execution_count": 26,
     "metadata": {},
     "output_type": "execute_result"
    }
   ],
   "source": [
    "gbo = df.groupby(by=\"sex\")\n",
    "gbo.ngroups"
   ]
  },
  {
   "cell_type": "code",
   "execution_count": 27,
   "id": "ceab937b",
   "metadata": {},
   "outputs": [
    {
     "data": {
      "text/plain": [
       "{'female': [0, 2, 4, 6, 8, 11, 12, 13, 17, 18, 21, 23, 24, 27, 28, 32, 33, 35, 36, 41, 42, 43, 44, 48, 50, 55, 57, 59, 61, 63, 65, 66, 67, 69, 72, 73, 76, 78, 79, 82, 83, 85, 88, 90, 92, 95, 97, 98, 99, 102, 103, 104, 105, 107, 108, 111, 112, 113, 116, 117, 121, 122, 124, 127, 129, 130, 131, 134, 137, 139, 141, 144, 146, 149, 153, 155, 159, 160, 161, 163, 167, 168, 169, 176, 178, 180, 181, 182, 186, 187, 188, 190, 192, 193, 195, 198, 199, 204, 207, 208, ...], 'male': [1, 3, 5, 7, 9, 10, 14, 15, 16, 19, 20, 22, 25, 26, 29, 30, 31, 34, 37, 38, 39, 40, 45, 46, 47, 49, 51, 52, 53, 54, 56, 58, 60, 62, 64, 68, 70, 71, 74, 75, 77, 80, 81, 84, 86, 87, 89, 91, 93, 94, 96, 100, 101, 106, 109, 110, 114, 115, 118, 119, 120, 123, 125, 126, 128, 132, 133, 135, 136, 138, 140, 142, 143, 145, 147, 148, 150, 151, 152, 154, 156, 157, 158, 162, 164, 165, 166, 170, 171, 172, 173, 174, 175, 177, 179, 183, 184, 185, 189, 191, ...]}"
      ]
     },
     "execution_count": 27,
     "metadata": {},
     "output_type": "execute_result"
    }
   ],
   "source": [
    "gbo.groups"
   ]
  },
  {
   "cell_type": "code",
   "execution_count": 28,
   "id": "cf090f4d",
   "metadata": {},
   "outputs": [
    {
     "data": {
      "text/plain": [
       "{0.1667: [763], 0.3333: [747], 0.4167: [1240], 0.6667: [427], 0.75: [657, 658, 1111], 0.8333: [359, 548, 611], 0.9167: [1, 590], 1.0: [339, 478, 492, 762, 826, 895, 937, 1048, 1101, 1187], 2.0: [2, 514, 540, 587, 624, 866, 1096, 1103, 1144, 1156, 1209, 1230], 3.0: [479, 515, 549, 641, 734, 1098, 1112], 4.0: [94, 340, 588, 622, 894, 916, 934, 1142, 1189, 1206], 5.0: [591, 639, 643, 659, 794], 6.0: [273, 430, 623, 678, 1025, 1097], 7.0: [434, 1102, 1143, 1256], 8.0: [377, 385, 398, 541, 1099, 1145], 9.0: [627, 640, 679, 733, 807, 820, 825, 1082, 1208, 1257], 10.0: [828, 1141, 1207, 1265], 11.0: [54, 628, 827, 855], 11.5: [1263], 12.0: [341, 582, 1056], 13.0: [249, 501, 601, 642, 653], 14.0: [55, 513, 569, 830, 1057, 1105, 1236, 1279], 14.5: [1171, 1304], 15.0: [193, 350, 792, 1007, 1047, 1300], 16.0: [159, 187, 195, 416, 510, 602, 604, 709, 761, 787, 810, 818, 829, 1093, 1104, 1161, 1232, 1244, 1275], 17.0: [53, 92, 229, 295, 390, 458, 482, 625, 650, 700, 701, 738, 740, 755, 772, 791, 841, 885, 910, 1133], 18.0: [11, 198, 228, 250, 270, 289, 326, 331, 386, 394, 395, 405, 408, 445, 558, 607, 612, 619, 636, 661, 665, 676, 695, 698, 717, 719, 786, 799, 809, 859, 938, 1045, 1060, 1130, 1157, 1205, 1260, 1273, 1288], 18.5: [568, 692, 919], 19.0: [27, 114, 137, 197, 216, 337, 344, 364, 503, 518, 530, 534, 552, 621, 669, 694, 731, 737, 744, 771, 777, 839, 898, 1011, 1050, 1108, 1127, 1217, 1226], 20.0: [353, 446, 520, 559, 606, 615, 633, 654, 664, 673, 687, 718, 836, 846, 883, 907, 970, 1049, 1089, 1091, 1092, 1191, 1278], 20.5: [977], 21.0: [190, 251, 307, 315, 317, 383, 404, 419, 420, 444, 453, 533, 553, 648, 675, 685, 693, 696, 702, 703, 704, 713, 754, 806, 850, 881, 908, 911, 913, 1017, 1020, 1062, 1065, 1107, 1117, 1140, 1182, 1204, 1224, 1289, 1295], 22.0: [36, 73, 122, 130, 220, 227, 236, 361, 380, 463, 468, 481, 523, 668, 671, 686, 689, 690, 725, 743, 753, 769, 785, 817, 862, 867, 890, 915, 932, 947, 952, 953, 986, 1046, 1067, 1079, 1119, 1147, 1201, 1227, 1277, 1280, 1281], 22.5: [741], 23.0: [102, 113, 140, 214, 225, 272, 332, 345, 403, 447, 465, 525, 547, 571, 579, 645, 649, 652, 780, 784, 861, 904, 980, 1075, 1090, 1223], 23.5: [847], 24.0: [12, 16, 111, 132, 153, 199, 255, 268, 271, 349, 376, 392, 421, 422, 428, 437, 438, 442, 460, 462, 467, 486, 494, 550, 599, 616, 637, 660, 708, 712, 720, 722, 752, 779, 783, 840, 845, 965, 985, 1010, 1019, 1040, 1125, 1134, 1181, 1188, 1237], 24.5: [1192], 25.0: [4, 25, 26, 143, 144, 327, 354, 356, 370, 393, 480, 555, 557, 565, 567, 605, 617, 635, 751, 766, 814, 853, 878, 941, 966, 1024, 1118, 1120, 1129, 1165, 1190, 1234, 1238, 1254], 26.0: [13, 22, 72, 346, 360, 417, 475, 517, 554, 598, 609, 613, 614, 631, 634, 663, 670, 677, 716, 764, 803, 849, 860, 889, 933, 936, 949, 975, 1061, 1113], 26.5: [1306], 27.0: [64, 71, 87, 90, 97, 151, 313, 348, 401, 507, 539, 556, 573, 575, 585, 630, 667, 730, 750, 857, 870, 877, 899, 906, 978, 1026, 1229, 1296, 1299, 1307], 28.0: [29, 52, 112, 203, 265, 324, 334, 338, 373, 375, 388, 431, 519, 527, 546, 572, 707, 711, 749, 838, 844, 863, 864, 869, 972, 1021, 1059, 1083, 1087, 1126, 1270, 1271], 28.5: [222, 1066, 1294], 29.0: [0, 24, 189, 226, 369, 372, 374, 391, 407, 452, 521, 526, 574, 586, 589, 688, 715, 746, 880, 893, 935, 950, 951, 990, 1058, 1100, 1196, 1231, 1258, 1308], 30.0: [3, 32, 67, 110, 117, 182, 191, 194, 209, 230, 258, 323, 325, 381, 402, 424, 426, 433, 476, 496, 499, 538, 545, 560, 562, 578, 608, 651, 697, 726, 732, 745, 760, 778, 875, 912, 969, 974, 1218, 1267], 30.5: [992, 1251], 31.0: [89, 91, 213, 239, 298, 309, 319, 378, 379, 474, 493, 577, 580, 596, 723, 724, 823, 892, 1086, 1094, 1228, 1274, 1276], 32.0: [18, 278, 336, 389, 443, 464, 498, 536, 620, 655, 674, 684, 714, 776, 834, 905, 909, 959, 981, 1088, 1110, 1131, 1220, 1248], 32.5: [173, 512, 584, 1285], 33.0: [51, 65, 88, 207, 242, 245, 248, 457, 542, 593, 656, 765, 781, 821, 891, 897, 914, 996, 1051, 1222, 1269], 34.0: [259, 328, 343, 396, 400, 414, 415, 423, 466, 484, 537, 544, 748, 888, 1031, 1239], 34.5: [924, 960], 35.0: [28, 127, 129, 149, 163, 164, 167, 183, 257, 261, 302, 362, 412, 470, 563, 603, 618, 638, 691, 729, 995, 1008, 1148], 36.0: [19, 49, 56, 57, 60, 66, 82, 105, 109, 202, 244, 322, 329, 333, 342, 355, 409, 448, 485, 543, 592, 721, 735, 759, 770, 939, 963, 968, 1259, 1266, 1298], 36.5: [516, 758], 37.0: [20, 77, 126, 208, 212, 368, 710, 837, 943], 38.0: [85, 103, 138, 165, 168, 234, 411, 413, 626, 646, 699, 824, 1139, 1286], 38.5: [1169], 39.0: [7, 76, 84, 101, 180, 218, 263, 291, 296, 504, 509, 522, 629, 632, 790, 917, 964, 1064, 1146, 1183], 40.0: [31, 150, 260, 275, 299, 352, 406, 497, 564, 576, 583, 610, 644, 662, 683, 831, 1203, 1210], 40.5: [796, 797, 1264], 41.0: [38, 44, 175, 502, 532, 566, 822, 848, 1063, 1106, 1158], 42.0: [23, 34, 47, 156, 162, 177, 185, 347, 357, 358, 399, 454, 459, 489, 600, 773, 873, 1084], 43.0: [120, 238, 281, 435, 535, 728, 774, 832, 868], 44.0: [41, 160, 206, 365, 429, 451, 739, 925, 1233, 1252], 45.0: [30, 35, 45, 68, 131, 141, 148, 178, 240, 274, 311, 371, 436, 471, 647, 666, 742, 788, 851, 967, 1211], 45.5: [224, 1301], 46.0: [62, 142, 171, 200, 243, 500], 47.0: [10, 21, 63, 75, 128, 211, 232, 301, 418, 461, 793, 1153, 1272, 1290], 48.0: [5, 39, 98, 99, 124, 145, 253, 288, 292, 387, 440, 505, 811, 884], 49.0: [58, 100, 133, 146, 170, 181, 294, 439, 896], 50.0: [17, 96, 119, 169, 172, 262, 312, 314, 450, 488, 529, 551, 570, 1152, 1160], 51.0: [86, 161, 188, 316, 335, 833, 979, 1287], 52.0: [155, 231, 282, 290, 367, 425], 53.0: [8, 48, 93, 136], 54.0: [95, 104, 201, 247, 280, 306, 366, 397, 449, 508], 55.0: [79, 154, 158, 186, 210, 246, 308, 441], 55.5: [1015], 56.0: [233, 264, 266, 267], 57.0: [276, 310, 330, 472, 490], 58.0: [33, 50, 139, 174, 192, 215], 59.0: [42, 561, 736], 60.0: [43, 116, 123, 304, 305, 351, 456], 60.5: [1225], 61.0: [252, 287, 300, 487, 1068], 62.0: [279, 284, 321, 432, 511], 63.0: [6, 286, 455, 1261], 64.0: [78, 83, 115, 217, 303], 65.0: [205, 221, 782], 66.0: [594], 67.0: [285], 70.0: [81, 506], 70.5: [727], 71.0: [9, 135], 74.0: [1235], 76.0: [61], 80.0: [14]}"
      ]
     },
     "execution_count": 28,
     "metadata": {},
     "output_type": "execute_result"
    }
   ],
   "source": [
    "df.groupby(\"age\").groups"
   ]
  },
  {
   "cell_type": "code",
   "execution_count": 31,
   "id": "bf14d20f",
   "metadata": {},
   "outputs": [
    {
     "data": {
      "text/html": [
       "<div>\n",
       "<style scoped>\n",
       "    .dataframe tbody tr th:only-of-type {\n",
       "        vertical-align: middle;\n",
       "    }\n",
       "\n",
       "    .dataframe tbody tr th {\n",
       "        vertical-align: top;\n",
       "    }\n",
       "\n",
       "    .dataframe thead th {\n",
       "        text-align: right;\n",
       "    }\n",
       "</style>\n",
       "<table border=\"1\" class=\"dataframe\">\n",
       "  <thead>\n",
       "    <tr style=\"text-align: right;\">\n",
       "      <th></th>\n",
       "      <th>survived</th>\n",
       "      <th>pclass</th>\n",
       "      <th>age</th>\n",
       "    </tr>\n",
       "    <tr>\n",
       "      <th>sex</th>\n",
       "      <th></th>\n",
       "      <th></th>\n",
       "      <th></th>\n",
       "    </tr>\n",
       "  </thead>\n",
       "  <tbody>\n",
       "    <tr>\n",
       "      <th>female</th>\n",
       "      <td>1</td>\n",
       "      <td>1</td>\n",
       "      <td>29.0000</td>\n",
       "    </tr>\n",
       "    <tr>\n",
       "      <th>male</th>\n",
       "      <td>1</td>\n",
       "      <td>1</td>\n",
       "      <td>0.9167</td>\n",
       "    </tr>\n",
       "  </tbody>\n",
       "</table>\n",
       "</div>"
      ],
      "text/plain": [
       "        survived  pclass      age\n",
       "sex                              \n",
       "female         1       1  29.0000\n",
       "male           1       1   0.9167"
      ]
     },
     "execution_count": 31,
     "metadata": {},
     "output_type": "execute_result"
    }
   ],
   "source": [
    "gbo.first() "
   ]
  },
  {
   "cell_type": "code",
   "execution_count": 33,
   "id": "711868a5",
   "metadata": {},
   "outputs": [
    {
     "data": {
      "text/html": [
       "<div>\n",
       "<style scoped>\n",
       "    .dataframe tbody tr th:only-of-type {\n",
       "        vertical-align: middle;\n",
       "    }\n",
       "\n",
       "    .dataframe tbody tr th {\n",
       "        vertical-align: top;\n",
       "    }\n",
       "\n",
       "    .dataframe thead th {\n",
       "        text-align: right;\n",
       "    }\n",
       "</style>\n",
       "<table border=\"1\" class=\"dataframe\">\n",
       "  <thead>\n",
       "    <tr style=\"text-align: right;\">\n",
       "      <th></th>\n",
       "      <th>survived</th>\n",
       "      <th>pclass</th>\n",
       "      <th>sex</th>\n",
       "    </tr>\n",
       "    <tr>\n",
       "      <th>age</th>\n",
       "      <th></th>\n",
       "      <th></th>\n",
       "      <th></th>\n",
       "    </tr>\n",
       "  </thead>\n",
       "  <tbody>\n",
       "    <tr>\n",
       "      <th>0.1667</th>\n",
       "      <td>1</td>\n",
       "      <td>3</td>\n",
       "      <td>female</td>\n",
       "    </tr>\n",
       "    <tr>\n",
       "      <th>0.3333</th>\n",
       "      <td>0</td>\n",
       "      <td>3</td>\n",
       "      <td>male</td>\n",
       "    </tr>\n",
       "    <tr>\n",
       "      <th>0.4167</th>\n",
       "      <td>1</td>\n",
       "      <td>3</td>\n",
       "      <td>male</td>\n",
       "    </tr>\n",
       "    <tr>\n",
       "      <th>0.6667</th>\n",
       "      <td>1</td>\n",
       "      <td>2</td>\n",
       "      <td>male</td>\n",
       "    </tr>\n",
       "    <tr>\n",
       "      <th>0.7500</th>\n",
       "      <td>1</td>\n",
       "      <td>3</td>\n",
       "      <td>female</td>\n",
       "    </tr>\n",
       "    <tr>\n",
       "      <th>...</th>\n",
       "      <td>...</td>\n",
       "      <td>...</td>\n",
       "      <td>...</td>\n",
       "    </tr>\n",
       "    <tr>\n",
       "      <th>70.5000</th>\n",
       "      <td>0</td>\n",
       "      <td>3</td>\n",
       "      <td>male</td>\n",
       "    </tr>\n",
       "    <tr>\n",
       "      <th>71.0000</th>\n",
       "      <td>0</td>\n",
       "      <td>1</td>\n",
       "      <td>male</td>\n",
       "    </tr>\n",
       "    <tr>\n",
       "      <th>74.0000</th>\n",
       "      <td>0</td>\n",
       "      <td>3</td>\n",
       "      <td>male</td>\n",
       "    </tr>\n",
       "    <tr>\n",
       "      <th>76.0000</th>\n",
       "      <td>1</td>\n",
       "      <td>1</td>\n",
       "      <td>female</td>\n",
       "    </tr>\n",
       "    <tr>\n",
       "      <th>80.0000</th>\n",
       "      <td>1</td>\n",
       "      <td>1</td>\n",
       "      <td>male</td>\n",
       "    </tr>\n",
       "  </tbody>\n",
       "</table>\n",
       "<p>98 rows × 3 columns</p>\n",
       "</div>"
      ],
      "text/plain": [
       "         survived  pclass     sex\n",
       "age                              \n",
       "0.1667          1       3  female\n",
       "0.3333          0       3    male\n",
       "0.4167          1       3    male\n",
       "0.6667          1       2    male\n",
       "0.7500          1       3  female\n",
       "...           ...     ...     ...\n",
       "70.5000         0       3    male\n",
       "71.0000         0       1    male\n",
       "74.0000         0       3    male\n",
       "76.0000         1       1  female\n",
       "80.0000         1       1    male\n",
       "\n",
       "[98 rows x 3 columns]"
      ]
     },
     "execution_count": 33,
     "metadata": {},
     "output_type": "execute_result"
    }
   ],
   "source": [
    "df.groupby(\"age\").first()"
   ]
  },
  {
   "cell_type": "code",
   "execution_count": 35,
   "id": "8994e9a5",
   "metadata": {},
   "outputs": [
    {
     "data": {
      "text/html": [
       "<div>\n",
       "<style scoped>\n",
       "    .dataframe tbody tr th:only-of-type {\n",
       "        vertical-align: middle;\n",
       "    }\n",
       "\n",
       "    .dataframe tbody tr th {\n",
       "        vertical-align: top;\n",
       "    }\n",
       "\n",
       "    .dataframe thead th {\n",
       "        text-align: right;\n",
       "    }\n",
       "</style>\n",
       "<table border=\"1\" class=\"dataframe\">\n",
       "  <thead>\n",
       "    <tr style=\"text-align: right;\">\n",
       "      <th></th>\n",
       "      <th>survived</th>\n",
       "      <th>pclass</th>\n",
       "      <th>sex</th>\n",
       "      <th>age</th>\n",
       "    </tr>\n",
       "  </thead>\n",
       "  <tbody>\n",
       "    <tr>\n",
       "      <th>0</th>\n",
       "      <td>1</td>\n",
       "      <td>1</td>\n",
       "      <td>female</td>\n",
       "      <td>29.0</td>\n",
       "    </tr>\n",
       "    <tr>\n",
       "      <th>2</th>\n",
       "      <td>0</td>\n",
       "      <td>1</td>\n",
       "      <td>female</td>\n",
       "      <td>2.0</td>\n",
       "    </tr>\n",
       "    <tr>\n",
       "      <th>4</th>\n",
       "      <td>0</td>\n",
       "      <td>1</td>\n",
       "      <td>female</td>\n",
       "      <td>25.0</td>\n",
       "    </tr>\n",
       "    <tr>\n",
       "      <th>6</th>\n",
       "      <td>1</td>\n",
       "      <td>1</td>\n",
       "      <td>female</td>\n",
       "      <td>63.0</td>\n",
       "    </tr>\n",
       "    <tr>\n",
       "      <th>8</th>\n",
       "      <td>1</td>\n",
       "      <td>1</td>\n",
       "      <td>female</td>\n",
       "      <td>53.0</td>\n",
       "    </tr>\n",
       "    <tr>\n",
       "      <th>...</th>\n",
       "      <td>...</td>\n",
       "      <td>...</td>\n",
       "      <td>...</td>\n",
       "      <td>...</td>\n",
       "    </tr>\n",
       "    <tr>\n",
       "      <th>1286</th>\n",
       "      <td>1</td>\n",
       "      <td>3</td>\n",
       "      <td>female</td>\n",
       "      <td>38.0</td>\n",
       "    </tr>\n",
       "    <tr>\n",
       "      <th>1290</th>\n",
       "      <td>1</td>\n",
       "      <td>3</td>\n",
       "      <td>female</td>\n",
       "      <td>47.0</td>\n",
       "    </tr>\n",
       "    <tr>\n",
       "      <th>1300</th>\n",
       "      <td>1</td>\n",
       "      <td>3</td>\n",
       "      <td>female</td>\n",
       "      <td>15.0</td>\n",
       "    </tr>\n",
       "    <tr>\n",
       "      <th>1304</th>\n",
       "      <td>0</td>\n",
       "      <td>3</td>\n",
       "      <td>female</td>\n",
       "      <td>14.5</td>\n",
       "    </tr>\n",
       "    <tr>\n",
       "      <th>1305</th>\n",
       "      <td>0</td>\n",
       "      <td>3</td>\n",
       "      <td>female</td>\n",
       "      <td>NaN</td>\n",
       "    </tr>\n",
       "  </tbody>\n",
       "</table>\n",
       "<p>466 rows × 4 columns</p>\n",
       "</div>"
      ],
      "text/plain": [
       "      survived  pclass     sex   age\n",
       "0            1       1  female  29.0\n",
       "2            0       1  female   2.0\n",
       "4            0       1  female  25.0\n",
       "6            1       1  female  63.0\n",
       "8            1       1  female  53.0\n",
       "...        ...     ...     ...   ...\n",
       "1286         1       3  female  38.0\n",
       "1290         1       3  female  47.0\n",
       "1300         1       3  female  15.0\n",
       "1304         0       3  female  14.5\n",
       "1305         0       3  female   NaN\n",
       "\n",
       "[466 rows x 4 columns]"
      ]
     },
     "execution_count": 35,
     "metadata": {},
     "output_type": "execute_result"
    }
   ],
   "source": [
    "gbo.get_group(\"female\")"
   ]
  },
  {
   "cell_type": "code",
   "execution_count": 36,
   "id": "3a8fab4a",
   "metadata": {},
   "outputs": [
    {
     "name": "stdout",
     "output_type": "stream",
     "text": [
      "female\n",
      "------\n",
      "      survived  pclass     sex   age\n",
      "0            1       1  female  29.0\n",
      "2            0       1  female   2.0\n",
      "4            0       1  female  25.0\n",
      "6            1       1  female  63.0\n",
      "8            1       1  female  53.0\n",
      "...        ...     ...     ...   ...\n",
      "1286         1       3  female  38.0\n",
      "1290         1       3  female  47.0\n",
      "1300         1       3  female  15.0\n",
      "1304         0       3  female  14.5\n",
      "1305         0       3  female   NaN\n",
      "\n",
      "[466 rows x 4 columns]\n",
      "male\n",
      "------\n",
      "      survived  pclass   sex      age\n",
      "1            1       1  male   0.9167\n",
      "3            0       1  male  30.0000\n",
      "5            1       1  male  48.0000\n",
      "7            0       1  male  39.0000\n",
      "9            0       1  male  71.0000\n",
      "...        ...     ...   ...      ...\n",
      "1302         0       3  male      NaN\n",
      "1303         0       3  male      NaN\n",
      "1306         0       3  male  26.5000\n",
      "1307         0       3  male  27.0000\n",
      "1308         0       3  male  29.0000\n",
      "\n",
      "[843 rows x 4 columns]\n"
     ]
    }
   ],
   "source": [
    "# iteration\n",
    "for name, group in gbo:\n",
    "    print(name)\n",
    "    print(\"------\")\n",
    "    print(group)"
   ]
  },
  {
   "cell_type": "code",
   "execution_count": 46,
   "id": "002cfe11",
   "metadata": {},
   "outputs": [
    {
     "data": {
      "text/plain": [
       "<AxesSubplot:title={'center':'Avarage age by sex'}, xlabel='sex'>"
      ]
     },
     "execution_count": 46,
     "metadata": {},
     "output_type": "execute_result"
    },
    {
     "data": {
      "image/png": "[encoded data removed]",
      "text/plain": [
       "<Figure size 640x480 with 1 Axes>"
      ]
     },
     "metadata": {},
     "output_type": "display_data"
    }
   ],
   "source": [
    "# Split, Apply, Combine\n",
    "\n",
    "gbo[\"age\"].mean().plot(kind=\"bar\", title=\"Avarage age by sex\")"
   ]
  },
  {
   "cell_type": "code",
   "execution_count": 42,
   "id": "9a70221e",
   "metadata": {},
   "outputs": [
    {
     "data": {
      "text/plain": [
       "sex\n",
       "female    76.0\n",
       "male      80.0\n",
       "Name: age, dtype: float64"
      ]
     },
     "execution_count": 42,
     "metadata": {},
     "output_type": "execute_result"
    }
   ],
   "source": [
    "gbo[\"age\"].max()"
   ]
  },
  {
   "cell_type": "code",
   "execution_count": 47,
   "id": "69dff0bf",
   "metadata": {},
   "outputs": [
    {
     "data": {
      "text/plain": [
       "pclass\n",
       "1    39.159918\n",
       "2    29.506705\n",
       "3    24.816367\n",
       "Name: age, dtype: float64"
      ]
     },
     "execution_count": 47,
     "metadata": {},
     "output_type": "execute_result"
    }
   ],
   "source": [
    "titanic.groupby(\"pclass\")[\"age\"].mean()"
   ]
  },
  {
   "cell_type": "code",
   "execution_count": 48,
   "id": "58c4a8e4",
   "metadata": {},
   "outputs": [
    {
     "data": {
      "text/plain": [
       "sex\n",
       "female    2.154506\n",
       "male      2.372479\n",
       "Name: pclass, dtype: float64"
      ]
     },
     "execution_count": 48,
     "metadata": {},
     "output_type": "execute_result"
    }
   ],
   "source": [
    "titanic.groupby(\"sex\")[\"pclass\"].mean()"
   ]
  },
  {
   "cell_type": "code",
   "execution_count": 49,
   "id": "cb71f788",
   "metadata": {},
   "outputs": [
    {
     "name": "stderr",
     "output_type": "stream",
     "text": [
      "C:\\Users\\0600004923\\AppData\\Local\\Temp\\ipykernel_19908\\929819788.py:1: FutureWarning: Dropping of nuisance columns in DataFrame reductions (with 'numeric_only=None') is deprecated; in a future version this will raise TypeError.  Select only valid columns before calling the reduction.\n",
      "  titanic.mean()\n"
     ]
    },
    {
     "data": {
      "text/plain": [
       "pclass       2.294882\n",
       "survived     0.381971\n",
       "age         29.881135\n",
       "sibsp        0.498854\n",
       "parch        0.385027\n",
       "dtype: float64"
      ]
     },
     "execution_count": 49,
     "metadata": {},
     "output_type": "execute_result"
    }
   ],
   "source": [
    "titanic.mean()"
   ]
  },
  {
   "cell_type": "code",
   "execution_count": 50,
   "id": "8e8bdfef",
   "metadata": {},
   "outputs": [
    {
     "data": {
      "text/html": [
       "<div>\n",
       "<style scoped>\n",
       "    .dataframe tbody tr th:only-of-type {\n",
       "        vertical-align: middle;\n",
       "    }\n",
       "\n",
       "    .dataframe tbody tr th {\n",
       "        vertical-align: top;\n",
       "    }\n",
       "\n",
       "    .dataframe thead th {\n",
       "        text-align: right;\n",
       "    }\n",
       "</style>\n",
       "<table border=\"1\" class=\"dataframe\">\n",
       "  <thead>\n",
       "    <tr style=\"text-align: right;\">\n",
       "      <th></th>\n",
       "      <th>pclass</th>\n",
       "      <th>survived</th>\n",
       "      <th>age</th>\n",
       "      <th>sibsp</th>\n",
       "      <th>parch</th>\n",
       "    </tr>\n",
       "    <tr>\n",
       "      <th>sex</th>\n",
       "      <th></th>\n",
       "      <th></th>\n",
       "      <th></th>\n",
       "      <th></th>\n",
       "      <th></th>\n",
       "    </tr>\n",
       "  </thead>\n",
       "  <tbody>\n",
       "    <tr>\n",
       "      <th>female</th>\n",
       "      <td>2.154506</td>\n",
       "      <td>0.727468</td>\n",
       "      <td>28.687071</td>\n",
       "      <td>0.652361</td>\n",
       "      <td>0.633047</td>\n",
       "    </tr>\n",
       "    <tr>\n",
       "      <th>male</th>\n",
       "      <td>2.372479</td>\n",
       "      <td>0.190985</td>\n",
       "      <td>30.585233</td>\n",
       "      <td>0.413998</td>\n",
       "      <td>0.247924</td>\n",
       "    </tr>\n",
       "  </tbody>\n",
       "</table>\n",
       "</div>"
      ],
      "text/plain": [
       "          pclass  survived        age     sibsp     parch\n",
       "sex                                                      \n",
       "female  2.154506  0.727468  28.687071  0.652361  0.633047\n",
       "male    2.372479  0.190985  30.585233  0.413998  0.247924"
      ]
     },
     "execution_count": 50,
     "metadata": {},
     "output_type": "execute_result"
    }
   ],
   "source": [
    "titanic.groupby(\"sex\").mean()"
   ]
  },
  {
   "cell_type": "code",
   "execution_count": 51,
   "id": "ad5a13ae",
   "metadata": {},
   "outputs": [
    {
     "data": {
      "text/html": [
       "<div>\n",
       "<style scoped>\n",
       "    .dataframe tbody tr th:only-of-type {\n",
       "        vertical-align: middle;\n",
       "    }\n",
       "\n",
       "    .dataframe tbody tr th {\n",
       "        vertical-align: top;\n",
       "    }\n",
       "\n",
       "    .dataframe thead th {\n",
       "        text-align: right;\n",
       "    }\n",
       "</style>\n",
       "<table border=\"1\" class=\"dataframe\">\n",
       "  <thead>\n",
       "    <tr style=\"text-align: right;\">\n",
       "      <th></th>\n",
       "      <th>pclass</th>\n",
       "      <th>survived</th>\n",
       "      <th>age</th>\n",
       "      <th>sibsp</th>\n",
       "      <th>parch</th>\n",
       "    </tr>\n",
       "    <tr>\n",
       "      <th>sex</th>\n",
       "      <th></th>\n",
       "      <th></th>\n",
       "      <th></th>\n",
       "      <th></th>\n",
       "      <th></th>\n",
       "    </tr>\n",
       "  </thead>\n",
       "  <tbody>\n",
       "    <tr>\n",
       "      <th>female</th>\n",
       "      <td>2.0</td>\n",
       "      <td>1.0</td>\n",
       "      <td>27.0</td>\n",
       "      <td>0.0</td>\n",
       "      <td>0.0</td>\n",
       "    </tr>\n",
       "    <tr>\n",
       "      <th>male</th>\n",
       "      <td>3.0</td>\n",
       "      <td>0.0</td>\n",
       "      <td>28.0</td>\n",
       "      <td>0.0</td>\n",
       "      <td>0.0</td>\n",
       "    </tr>\n",
       "  </tbody>\n",
       "</table>\n",
       "</div>"
      ],
      "text/plain": [
       "        pclass  survived   age  sibsp  parch\n",
       "sex                                         \n",
       "female     2.0       1.0  27.0    0.0    0.0\n",
       "male       3.0       0.0  28.0    0.0    0.0"
      ]
     },
     "execution_count": 51,
     "metadata": {},
     "output_type": "execute_result"
    }
   ],
   "source": [
    "titanic.groupby(\"sex\").median()"
   ]
  },
  {
   "cell_type": "code",
   "execution_count": 52,
   "id": "fa9ce4df",
   "metadata": {},
   "outputs": [
    {
     "data": {
      "text/plain": [
       "Symbol\n",
       "GM       65.180000\n",
       "LCID     57.750000\n",
       "RIVN    179.470001\n",
       "Name: High, dtype: float64"
      ]
     },
     "execution_count": 52,
     "metadata": {},
     "output_type": "execute_result"
    }
   ],
   "source": [
    "cars.groupby(\"Symbol\")[\"High\"].max()"
   ]
  },
  {
   "cell_type": "code",
   "execution_count": 59,
   "id": "dd83ac53",
   "metadata": {},
   "outputs": [
    {
     "data": {
      "text/html": [
       "<div>\n",
       "<style scoped>\n",
       "    .dataframe tbody tr th:only-of-type {\n",
       "        vertical-align: middle;\n",
       "    }\n",
       "\n",
       "    .dataframe tbody tr th {\n",
       "        vertical-align: top;\n",
       "    }\n",
       "\n",
       "    .dataframe thead th {\n",
       "        text-align: right;\n",
       "    }\n",
       "</style>\n",
       "<table border=\"1\" class=\"dataframe\">\n",
       "  <thead>\n",
       "    <tr style=\"text-align: right;\">\n",
       "      <th></th>\n",
       "      <th>min</th>\n",
       "      <th>max</th>\n",
       "      <th>mean</th>\n",
       "      <th>median</th>\n",
       "    </tr>\n",
       "    <tr>\n",
       "      <th>sex</th>\n",
       "      <th></th>\n",
       "      <th></th>\n",
       "      <th></th>\n",
       "      <th></th>\n",
       "    </tr>\n",
       "  </thead>\n",
       "  <tbody>\n",
       "    <tr>\n",
       "      <th>female</th>\n",
       "      <td>0.1667</td>\n",
       "      <td>76.0</td>\n",
       "      <td>28.687071</td>\n",
       "      <td>27.0</td>\n",
       "    </tr>\n",
       "    <tr>\n",
       "      <th>male</th>\n",
       "      <td>0.3333</td>\n",
       "      <td>80.0</td>\n",
       "      <td>30.585233</td>\n",
       "      <td>28.0</td>\n",
       "    </tr>\n",
       "  </tbody>\n",
       "</table>\n",
       "</div>"
      ],
      "text/plain": [
       "           min   max       mean  median\n",
       "sex                                    \n",
       "female  0.1667  76.0  28.687071    27.0\n",
       "male    0.3333  80.0  30.585233    28.0"
      ]
     },
     "execution_count": 59,
     "metadata": {},
     "output_type": "execute_result"
    }
   ],
   "source": [
    "# Aggregate\n",
    "\n",
    "titanic.groupby(\"sex\")[\"age\"].agg([\"min\", \"max\", \"mean\", \"median\"])"
   ]
  },
  {
   "cell_type": "code",
   "execution_count": 63,
   "id": "b3765b70",
   "metadata": {},
   "outputs": [
    {
     "data": {
      "text/html": [
       "<div>\n",
       "<style scoped>\n",
       "    .dataframe tbody tr th:only-of-type {\n",
       "        vertical-align: middle;\n",
       "    }\n",
       "\n",
       "    .dataframe tbody tr th {\n",
       "        vertical-align: top;\n",
       "    }\n",
       "\n",
       "    .dataframe thead tr th {\n",
       "        text-align: left;\n",
       "    }\n",
       "\n",
       "    .dataframe thead tr:last-of-type th {\n",
       "        text-align: right;\n",
       "    }\n",
       "</style>\n",
       "<table border=\"1\" class=\"dataframe\">\n",
       "  <thead>\n",
       "    <tr>\n",
       "      <th></th>\n",
       "      <th colspan=\"3\" halign=\"left\">age</th>\n",
       "      <th>pclass</th>\n",
       "    </tr>\n",
       "    <tr>\n",
       "      <th></th>\n",
       "      <th>min</th>\n",
       "      <th>max</th>\n",
       "      <th>median</th>\n",
       "      <th>mean</th>\n",
       "    </tr>\n",
       "    <tr>\n",
       "      <th>sex</th>\n",
       "      <th></th>\n",
       "      <th></th>\n",
       "      <th></th>\n",
       "      <th></th>\n",
       "    </tr>\n",
       "  </thead>\n",
       "  <tbody>\n",
       "    <tr>\n",
       "      <th>female</th>\n",
       "      <td>0.1667</td>\n",
       "      <td>76.0</td>\n",
       "      <td>27.0</td>\n",
       "      <td>2.154506</td>\n",
       "    </tr>\n",
       "    <tr>\n",
       "      <th>male</th>\n",
       "      <td>0.3333</td>\n",
       "      <td>80.0</td>\n",
       "      <td>28.0</td>\n",
       "      <td>2.372479</td>\n",
       "    </tr>\n",
       "  </tbody>\n",
       "</table>\n",
       "</div>"
      ],
      "text/plain": [
       "           age                 pclass\n",
       "           min   max median      mean\n",
       "sex                                  \n",
       "female  0.1667  76.0   27.0  2.154506\n",
       "male    0.3333  80.0   28.0  2.372479"
      ]
     },
     "execution_count": 63,
     "metadata": {},
     "output_type": "execute_result"
    }
   ],
   "source": [
    "titanic.groupby(\"sex\").agg({\"age\": [\"min\", \"max\", \"median\"], \"pclass\": \"mean\"})"
   ]
  },
  {
   "cell_type": "code",
   "execution_count": 65,
   "id": "9139a0ae",
   "metadata": {},
   "outputs": [
    {
     "data": {
      "text/html": [
       "<div>\n",
       "<style scoped>\n",
       "    .dataframe tbody tr th:only-of-type {\n",
       "        vertical-align: middle;\n",
       "    }\n",
       "\n",
       "    .dataframe tbody tr th {\n",
       "        vertical-align: top;\n",
       "    }\n",
       "\n",
       "    .dataframe thead tr th {\n",
       "        text-align: left;\n",
       "    }\n",
       "\n",
       "    .dataframe thead tr:last-of-type th {\n",
       "        text-align: right;\n",
       "    }\n",
       "</style>\n",
       "<table border=\"1\" class=\"dataframe\">\n",
       "  <thead>\n",
       "    <tr>\n",
       "      <th></th>\n",
       "      <th>Open</th>\n",
       "      <th>Close</th>\n",
       "      <th colspan=\"2\" halign=\"left\">Volume</th>\n",
       "    </tr>\n",
       "    <tr>\n",
       "      <th></th>\n",
       "      <th>mean</th>\n",
       "      <th>mean</th>\n",
       "      <th>mean</th>\n",
       "      <th>sum</th>\n",
       "    </tr>\n",
       "    <tr>\n",
       "      <th>Symbol</th>\n",
       "      <th></th>\n",
       "      <th></th>\n",
       "      <th></th>\n",
       "      <th></th>\n",
       "    </tr>\n",
       "  </thead>\n",
       "  <tbody>\n",
       "    <tr>\n",
       "      <th>GM</th>\n",
       "      <td>61.937693</td>\n",
       "      <td>62.164615</td>\n",
       "      <td>2.025259e+07</td>\n",
       "      <td>263283700</td>\n",
       "    </tr>\n",
       "    <tr>\n",
       "      <th>LCID</th>\n",
       "      <td>48.761538</td>\n",
       "      <td>49.829231</td>\n",
       "      <td>1.081098e+08</td>\n",
       "      <td>1405427200</td>\n",
       "    </tr>\n",
       "    <tr>\n",
       "      <th>RIVN</th>\n",
       "      <td>127.710000</td>\n",
       "      <td>127.523077</td>\n",
       "      <td>5.252395e+07</td>\n",
       "      <td>682811400</td>\n",
       "    </tr>\n",
       "  </tbody>\n",
       "</table>\n",
       "</div>"
      ],
      "text/plain": [
       "              Open       Close        Volume            \n",
       "              mean        mean          mean         sum\n",
       "Symbol                                                  \n",
       "GM       61.937693   62.164615  2.025259e+07   263283700\n",
       "LCID     48.761538   49.829231  1.081098e+08  1405427200\n",
       "RIVN    127.710000  127.523077  5.252395e+07   682811400"
      ]
     },
     "execution_count": 65,
     "metadata": {},
     "output_type": "execute_result"
    }
   ],
   "source": [
    "cars.groupby(\"Symbol\").agg({\"Open\": \"mean\", \"Close\": \"mean\", \"Volume\": [\"mean\", \"sum\"]})"
   ]
  },
  {
   "cell_type": "code",
   "execution_count": 67,
   "id": "9c6b0b24",
   "metadata": {},
   "outputs": [
    {
     "data": {
      "text/plain": [
       "pclass\n",
       "1    79.0833\n",
       "2    69.3333\n",
       "3    73.8333\n",
       "Name: age, dtype: float64"
      ]
     },
     "execution_count": 67,
     "metadata": {},
     "output_type": "execute_result"
    }
   ],
   "source": [
    "def range(x):\n",
    "    return x.max() - x.min()\n",
    "    \n",
    "titanic.groupby(\"pclass\")[\"age\"].agg(range)"
   ]
  },
  {
   "cell_type": "code",
   "execution_count": 72,
   "id": "6ce36746",
   "metadata": {},
   "outputs": [
    {
     "data": {
      "text/html": [
       "<div>\n",
       "<style scoped>\n",
       "    .dataframe tbody tr th:only-of-type {\n",
       "        vertical-align: middle;\n",
       "    }\n",
       "\n",
       "    .dataframe tbody tr th {\n",
       "        vertical-align: top;\n",
       "    }\n",
       "\n",
       "    .dataframe thead th {\n",
       "        text-align: right;\n",
       "    }\n",
       "</style>\n",
       "<table border=\"1\" class=\"dataframe\">\n",
       "  <thead>\n",
       "    <tr style=\"text-align: right;\">\n",
       "      <th></th>\n",
       "      <th>min</th>\n",
       "      <th>max</th>\n",
       "      <th>range</th>\n",
       "    </tr>\n",
       "    <tr>\n",
       "      <th>pclass</th>\n",
       "      <th></th>\n",
       "      <th></th>\n",
       "      <th></th>\n",
       "    </tr>\n",
       "  </thead>\n",
       "  <tbody>\n",
       "    <tr>\n",
       "      <th>1</th>\n",
       "      <td>0.9167</td>\n",
       "      <td>80.0</td>\n",
       "      <td>79.0833</td>\n",
       "    </tr>\n",
       "    <tr>\n",
       "      <th>2</th>\n",
       "      <td>0.6667</td>\n",
       "      <td>70.0</td>\n",
       "      <td>69.3333</td>\n",
       "    </tr>\n",
       "    <tr>\n",
       "      <th>3</th>\n",
       "      <td>0.1667</td>\n",
       "      <td>74.0</td>\n",
       "      <td>73.8333</td>\n",
       "    </tr>\n",
       "  </tbody>\n",
       "</table>\n",
       "</div>"
      ],
      "text/plain": [
       "           min   max    range\n",
       "pclass                       \n",
       "1       0.9167  80.0  79.0833\n",
       "2       0.6667  70.0  69.3333\n",
       "3       0.1667  74.0  73.8333"
      ]
     },
     "execution_count": 72,
     "metadata": {},
     "output_type": "execute_result"
    }
   ],
   "source": [
    "def range(x):\n",
    "    return x.max() - x.min()\n",
    "    \n",
    "titanic.groupby(\"pclass\")[\"age\"].agg([\"min\", \"max\", range])"
   ]
  },
  {
   "cell_type": "code",
   "execution_count": 76,
   "id": "0b4a9b6e",
   "metadata": {},
   "outputs": [
    {
     "data": {
      "text/plain": [
       "263"
      ]
     },
     "execution_count": 76,
     "metadata": {},
     "output_type": "execute_result"
    }
   ],
   "source": [
    "# Number of Null values in this DF\n",
    "titanic[\"age\"].size - titanic[\"age\"].count()"
   ]
  },
  {
   "cell_type": "code",
   "execution_count": 77,
   "id": "b07a5e8f",
   "metadata": {},
   "outputs": [
    {
     "data": {
      "text/plain": [
       "pclass\n",
       "1     39\n",
       "2     16\n",
       "3    208\n",
       "Name: age, dtype: int64"
      ]
     },
     "execution_count": 77,
     "metadata": {},
     "output_type": "execute_result"
    }
   ],
   "source": [
    "def count_nulls(s):\n",
    "    return s.size - s.count()\n",
    "\n",
    "titanic.groupby(\"pclass\")[\"age\"].agg(count_nulls)"
   ]
  },
  {
   "cell_type": "code",
   "execution_count": 78,
   "id": "0c1f78ac",
   "metadata": {},
   "outputs": [
    {
     "data": {
      "text/html": [
       "<div>\n",
       "<style scoped>\n",
       "    .dataframe tbody tr th:only-of-type {\n",
       "        vertical-align: middle;\n",
       "    }\n",
       "\n",
       "    .dataframe tbody tr th {\n",
       "        vertical-align: top;\n",
       "    }\n",
       "\n",
       "    .dataframe thead tr th {\n",
       "        text-align: left;\n",
       "    }\n",
       "\n",
       "    .dataframe thead tr:last-of-type th {\n",
       "        text-align: right;\n",
       "    }\n",
       "</style>\n",
       "<table border=\"1\" class=\"dataframe\">\n",
       "  <thead>\n",
       "    <tr>\n",
       "      <th></th>\n",
       "      <th colspan=\"2\" halign=\"left\">Open</th>\n",
       "      <th colspan=\"2\" halign=\"left\">Close</th>\n",
       "    </tr>\n",
       "    <tr>\n",
       "      <th></th>\n",
       "      <th>min</th>\n",
       "      <th>max</th>\n",
       "      <th>min</th>\n",
       "      <th>max</th>\n",
       "    </tr>\n",
       "    <tr>\n",
       "      <th>Symbol</th>\n",
       "      <th></th>\n",
       "      <th></th>\n",
       "      <th></th>\n",
       "      <th></th>\n",
       "    </tr>\n",
       "  </thead>\n",
       "  <tbody>\n",
       "    <tr>\n",
       "      <th>GM</th>\n",
       "      <td>57.849998</td>\n",
       "      <td>64.330002</td>\n",
       "      <td>59.270000</td>\n",
       "      <td>64.610001</td>\n",
       "    </tr>\n",
       "    <tr>\n",
       "      <th>LCID</th>\n",
       "      <td>42.299999</td>\n",
       "      <td>56.200001</td>\n",
       "      <td>40.750000</td>\n",
       "      <td>55.520000</td>\n",
       "    </tr>\n",
       "    <tr>\n",
       "      <th>RIVN</th>\n",
       "      <td>106.750000</td>\n",
       "      <td>163.800003</td>\n",
       "      <td>100.730003</td>\n",
       "      <td>172.009995</td>\n",
       "    </tr>\n",
       "  </tbody>\n",
       "</table>\n",
       "</div>"
      ],
      "text/plain": [
       "              Open                   Close            \n",
       "               min         max         min         max\n",
       "Symbol                                                \n",
       "GM       57.849998   64.330002   59.270000   64.610001\n",
       "LCID     42.299999   56.200001   40.750000   55.520000\n",
       "RIVN    106.750000  163.800003  100.730003  172.009995"
      ]
     },
     "execution_count": 78,
     "metadata": {},
     "output_type": "execute_result"
    }
   ],
   "source": [
    "cars.groupby(\"Symbol\").agg({\"Open\": [\"min\", \"max\"], \"Close\": [\"min\", \"max\"]})"
   ]
  },
  {
   "cell_type": "code",
   "execution_count": 79,
   "id": "756a681c",
   "metadata": {},
   "outputs": [
    {
     "data": {
      "text/html": [
       "<div>\n",
       "<style scoped>\n",
       "    .dataframe tbody tr th:only-of-type {\n",
       "        vertical-align: middle;\n",
       "    }\n",
       "\n",
       "    .dataframe tbody tr th {\n",
       "        vertical-align: top;\n",
       "    }\n",
       "\n",
       "    .dataframe thead th {\n",
       "        text-align: right;\n",
       "    }\n",
       "</style>\n",
       "<table border=\"1\" class=\"dataframe\">\n",
       "  <thead>\n",
       "    <tr style=\"text-align: right;\">\n",
       "      <th></th>\n",
       "      <th>min_open</th>\n",
       "      <th>max_open</th>\n",
       "      <th>min_close</th>\n",
       "      <th>max_close</th>\n",
       "    </tr>\n",
       "    <tr>\n",
       "      <th>Symbol</th>\n",
       "      <th></th>\n",
       "      <th></th>\n",
       "      <th></th>\n",
       "      <th></th>\n",
       "    </tr>\n",
       "  </thead>\n",
       "  <tbody>\n",
       "    <tr>\n",
       "      <th>GM</th>\n",
       "      <td>57.849998</td>\n",
       "      <td>64.330002</td>\n",
       "      <td>59.270000</td>\n",
       "      <td>64.610001</td>\n",
       "    </tr>\n",
       "    <tr>\n",
       "      <th>LCID</th>\n",
       "      <td>42.299999</td>\n",
       "      <td>56.200001</td>\n",
       "      <td>40.750000</td>\n",
       "      <td>55.520000</td>\n",
       "    </tr>\n",
       "    <tr>\n",
       "      <th>RIVN</th>\n",
       "      <td>106.750000</td>\n",
       "      <td>163.800003</td>\n",
       "      <td>100.730003</td>\n",
       "      <td>172.009995</td>\n",
       "    </tr>\n",
       "  </tbody>\n",
       "</table>\n",
       "</div>"
      ],
      "text/plain": [
       "          min_open    max_open   min_close   max_close\n",
       "Symbol                                                \n",
       "GM       57.849998   64.330002   59.270000   64.610001\n",
       "LCID     42.299999   56.200001   40.750000   55.520000\n",
       "RIVN    106.750000  163.800003  100.730003  172.009995"
      ]
     },
     "execution_count": 79,
     "metadata": {},
     "output_type": "execute_result"
    }
   ],
   "source": [
    "# Named Agregarion\n",
    "\n",
    "cars.groupby(\"Symbol\").agg(\n",
    "    min_open=(\"Open\", \"min\"),\n",
    "    max_open=(\"Open\", \"max\"),\n",
    "    min_close=(\"Close\", \"min\"),\n",
    "    max_close=(\"Close\", \"max\")\n",
    ")"
   ]
  },
  {
   "cell_type": "code",
   "execution_count": null,
   "id": "1461bedd",
   "metadata": {},
   "outputs": [],
   "source": []
  },
  {
   "cell_type": "markdown",
   "id": "d1d645e0",
   "metadata": {},
   "source": [
    "# Exercise"
   ]
  },
  {
   "cell_type": "code",
   "execution_count": 103,
   "id": "1cb3bb4f",
   "metadata": {},
   "outputs": [
    {
     "data": {
      "text/html": [
       "<div>\n",
       "<style scoped>\n",
       "    .dataframe tbody tr th:only-of-type {\n",
       "        vertical-align: middle;\n",
       "    }\n",
       "\n",
       "    .dataframe tbody tr th {\n",
       "        vertical-align: top;\n",
       "    }\n",
       "\n",
       "    .dataframe thead th {\n",
       "        text-align: right;\n",
       "    }\n",
       "</style>\n",
       "<table border=\"1\" class=\"dataframe\">\n",
       "  <thead>\n",
       "    <tr style=\"text-align: right;\">\n",
       "      <th></th>\n",
       "      <th>Team</th>\n",
       "      <th>Position</th>\n",
       "      <th>Shirt number</th>\n",
       "      <th>Name</th>\n",
       "      <th>Minutes played</th>\n",
       "      <th>Games played</th>\n",
       "      <th>Percentage of games played</th>\n",
       "      <th>Full games played</th>\n",
       "      <th>Percentage of full games played</th>\n",
       "      <th>Games started</th>\n",
       "      <th>...</th>\n",
       "      <th>Corners</th>\n",
       "      <th>Tackles.1</th>\n",
       "      <th>Duels</th>\n",
       "      <th>Man-to-man duels</th>\n",
       "      <th>Aerial duels</th>\n",
       "      <th>Passes</th>\n",
       "      <th>Short passes</th>\n",
       "      <th>Long passes</th>\n",
       "      <th>Through balls</th>\n",
       "      <th>Goals scored per attempt</th>\n",
       "    </tr>\n",
       "  </thead>\n",
       "  <tbody>\n",
       "    <tr>\n",
       "      <th>0</th>\n",
       "      <td>Athletic Club</td>\n",
       "      <td>Goalkeeper</td>\n",
       "      <td>NaN</td>\n",
       "      <td>Hodei Oleaga</td>\n",
       "      <td>0.000</td>\n",
       "      <td>0</td>\n",
       "      <td>0.00%</td>\n",
       "      <td>0</td>\n",
       "      <td>0.00%</td>\n",
       "      <td>0</td>\n",
       "      <td>...</td>\n",
       "      <td>0</td>\n",
       "      <td>0</td>\n",
       "      <td>0</td>\n",
       "      <td>0</td>\n",
       "      <td>0</td>\n",
       "      <td>0.0</td>\n",
       "      <td>0.0</td>\n",
       "      <td>0</td>\n",
       "      <td>0</td>\n",
       "      <td>0</td>\n",
       "    </tr>\n",
       "    <tr>\n",
       "      <th>1</th>\n",
       "      <td>Athletic Club</td>\n",
       "      <td>Goalkeeper</td>\n",
       "      <td>1.0</td>\n",
       "      <td>A. Remiro</td>\n",
       "      <td>0.000</td>\n",
       "      <td>0</td>\n",
       "      <td>0.00%</td>\n",
       "      <td>0</td>\n",
       "      <td>0.00%</td>\n",
       "      <td>0</td>\n",
       "      <td>...</td>\n",
       "      <td>0</td>\n",
       "      <td>0</td>\n",
       "      <td>0</td>\n",
       "      <td>0</td>\n",
       "      <td>0</td>\n",
       "      <td>0.0</td>\n",
       "      <td>0.0</td>\n",
       "      <td>0</td>\n",
       "      <td>0</td>\n",
       "      <td>0</td>\n",
       "    </tr>\n",
       "    <tr>\n",
       "      <th>2</th>\n",
       "      <td>Athletic Club</td>\n",
       "      <td>Goalkeeper</td>\n",
       "      <td>13.0</td>\n",
       "      <td>Herrerín</td>\n",
       "      <td>2.790</td>\n",
       "      <td>31</td>\n",
       "      <td>82.00%</td>\n",
       "      <td>31</td>\n",
       "      <td>82.00%</td>\n",
       "      <td>31</td>\n",
       "      <td>...</td>\n",
       "      <td>0</td>\n",
       "      <td>0</td>\n",
       "      <td>25</td>\n",
       "      <td>6</td>\n",
       "      <td>19</td>\n",
       "      <td>887.0</td>\n",
       "      <td>128.0</td>\n",
       "      <td>759</td>\n",
       "      <td>1</td>\n",
       "      <td>0</td>\n",
       "    </tr>\n",
       "    <tr>\n",
       "      <th>3</th>\n",
       "      <td>Athletic Club</td>\n",
       "      <td>Goalkeeper</td>\n",
       "      <td>25.0</td>\n",
       "      <td>Unai Simón</td>\n",
       "      <td>630.000</td>\n",
       "      <td>7</td>\n",
       "      <td>18.00%</td>\n",
       "      <td>7</td>\n",
       "      <td>18.00%</td>\n",
       "      <td>7</td>\n",
       "      <td>...</td>\n",
       "      <td>0</td>\n",
       "      <td>0</td>\n",
       "      <td>3</td>\n",
       "      <td>2</td>\n",
       "      <td>1</td>\n",
       "      <td>155.0</td>\n",
       "      <td>49.0</td>\n",
       "      <td>106</td>\n",
       "      <td>0</td>\n",
       "      <td>0</td>\n",
       "    </tr>\n",
       "    <tr>\n",
       "      <th>4</th>\n",
       "      <td>Athletic Club</td>\n",
       "      <td>Defender</td>\n",
       "      <td>3.0</td>\n",
       "      <td>Núñez</td>\n",
       "      <td>1.063</td>\n",
       "      <td>12</td>\n",
       "      <td>32.00%</td>\n",
       "      <td>11</td>\n",
       "      <td>29.00%</td>\n",
       "      <td>11</td>\n",
       "      <td>...</td>\n",
       "      <td>0</td>\n",
       "      <td>15</td>\n",
       "      <td>107</td>\n",
       "      <td>38</td>\n",
       "      <td>69</td>\n",
       "      <td>536.0</td>\n",
       "      <td>457.0</td>\n",
       "      <td>78</td>\n",
       "      <td>1</td>\n",
       "      <td>0</td>\n",
       "    </tr>\n",
       "    <tr>\n",
       "      <th>...</th>\n",
       "      <td>...</td>\n",
       "      <td>...</td>\n",
       "      <td>...</td>\n",
       "      <td>...</td>\n",
       "      <td>...</td>\n",
       "      <td>...</td>\n",
       "      <td>...</td>\n",
       "      <td>...</td>\n",
       "      <td>...</td>\n",
       "      <td>...</td>\n",
       "      <td>...</td>\n",
       "      <td>...</td>\n",
       "      <td>...</td>\n",
       "      <td>...</td>\n",
       "      <td>...</td>\n",
       "      <td>...</td>\n",
       "      <td>...</td>\n",
       "      <td>...</td>\n",
       "      <td>...</td>\n",
       "      <td>...</td>\n",
       "      <td>...</td>\n",
       "    </tr>\n",
       "    <tr>\n",
       "      <th>551</th>\n",
       "      <td>Villarreal CF</td>\n",
       "      <td>Midfielder</td>\n",
       "      <td>37.0</td>\n",
       "      <td>Iván Martín</td>\n",
       "      <td>0.000</td>\n",
       "      <td>0</td>\n",
       "      <td>0.00%</td>\n",
       "      <td>0</td>\n",
       "      <td>0.00%</td>\n",
       "      <td>0</td>\n",
       "      <td>...</td>\n",
       "      <td>0</td>\n",
       "      <td>0</td>\n",
       "      <td>0</td>\n",
       "      <td>0</td>\n",
       "      <td>0</td>\n",
       "      <td>0.0</td>\n",
       "      <td>0.0</td>\n",
       "      <td>0</td>\n",
       "      <td>0</td>\n",
       "      <td>0</td>\n",
       "    </tr>\n",
       "    <tr>\n",
       "      <th>552</th>\n",
       "      <td>Villarreal CF</td>\n",
       "      <td>Midfielder</td>\n",
       "      <td>42.0</td>\n",
       "      <td>Andrei Ratiu</td>\n",
       "      <td>0.000</td>\n",
       "      <td>0</td>\n",
       "      <td>0.00%</td>\n",
       "      <td>0</td>\n",
       "      <td>0.00%</td>\n",
       "      <td>0</td>\n",
       "      <td>...</td>\n",
       "      <td>0</td>\n",
       "      <td>0</td>\n",
       "      <td>0</td>\n",
       "      <td>0</td>\n",
       "      <td>0</td>\n",
       "      <td>0.0</td>\n",
       "      <td>0.0</td>\n",
       "      <td>0</td>\n",
       "      <td>0</td>\n",
       "      <td>0</td>\n",
       "    </tr>\n",
       "    <tr>\n",
       "      <th>553</th>\n",
       "      <td>Villarreal CF</td>\n",
       "      <td>Forward</td>\n",
       "      <td>7.0</td>\n",
       "      <td>Gerard</td>\n",
       "      <td>2.317</td>\n",
       "      <td>35</td>\n",
       "      <td>92.00%</td>\n",
       "      <td>16</td>\n",
       "      <td>42.00%</td>\n",
       "      <td>25</td>\n",
       "      <td>...</td>\n",
       "      <td>0</td>\n",
       "      <td>23</td>\n",
       "      <td>344</td>\n",
       "      <td>219</td>\n",
       "      <td>125</td>\n",
       "      <td>740.0</td>\n",
       "      <td>676.0</td>\n",
       "      <td>59</td>\n",
       "      <td>5</td>\n",
       "      <td>6</td>\n",
       "    </tr>\n",
       "    <tr>\n",
       "      <th>554</th>\n",
       "      <td>Villarreal CF</td>\n",
       "      <td>Forward</td>\n",
       "      <td>9.0</td>\n",
       "      <td>Bacca</td>\n",
       "      <td>1.259</td>\n",
       "      <td>33</td>\n",
       "      <td>87.00%</td>\n",
       "      <td>2</td>\n",
       "      <td>5.00%</td>\n",
       "      <td>12</td>\n",
       "      <td>...</td>\n",
       "      <td>1</td>\n",
       "      <td>4</td>\n",
       "      <td>127</td>\n",
       "      <td>80</td>\n",
       "      <td>47</td>\n",
       "      <td>270.0</td>\n",
       "      <td>252.0</td>\n",
       "      <td>16</td>\n",
       "      <td>2</td>\n",
       "      <td>5</td>\n",
       "    </tr>\n",
       "    <tr>\n",
       "      <th>555</th>\n",
       "      <td>Villarreal CF</td>\n",
       "      <td>Forward</td>\n",
       "      <td>17.0</td>\n",
       "      <td>Toko Ekambi</td>\n",
       "      <td>2.148</td>\n",
       "      <td>34</td>\n",
       "      <td>89.00%</td>\n",
       "      <td>11</td>\n",
       "      <td>29.00%</td>\n",
       "      <td>24</td>\n",
       "      <td>...</td>\n",
       "      <td>0</td>\n",
       "      <td>11</td>\n",
       "      <td>268</td>\n",
       "      <td>187</td>\n",
       "      <td>81</td>\n",
       "      <td>501.0</td>\n",
       "      <td>477.0</td>\n",
       "      <td>23</td>\n",
       "      <td>1</td>\n",
       "      <td>5</td>\n",
       "    </tr>\n",
       "  </tbody>\n",
       "</table>\n",
       "<p>556 rows × 62 columns</p>\n",
       "</div>"
      ],
      "text/plain": [
       "              Team    Position  Shirt number          Name  Minutes played  \\\n",
       "0    Athletic Club  Goalkeeper           NaN  Hodei Oleaga           0.000   \n",
       "1    Athletic Club  Goalkeeper           1.0     A. Remiro           0.000   \n",
       "2    Athletic Club  Goalkeeper          13.0      Herrerín           2.790   \n",
       "3    Athletic Club  Goalkeeper          25.0    Unai Simón         630.000   \n",
       "4    Athletic Club    Defender           3.0         Núñez           1.063   \n",
       "..             ...         ...           ...           ...             ...   \n",
       "551  Villarreal CF  Midfielder          37.0   Iván Martín           0.000   \n",
       "552  Villarreal CF  Midfielder          42.0  Andrei Ratiu           0.000   \n",
       "553  Villarreal CF     Forward           7.0        Gerard           2.317   \n",
       "554  Villarreal CF     Forward           9.0         Bacca           1.259   \n",
       "555  Villarreal CF     Forward          17.0   Toko Ekambi           2.148   \n",
       "\n",
       "     Games played Percentage of games played  Full games played  \\\n",
       "0               0                      0.00%                  0   \n",
       "1               0                      0.00%                  0   \n",
       "2              31                     82.00%                 31   \n",
       "3               7                     18.00%                  7   \n",
       "4              12                     32.00%                 11   \n",
       "..            ...                        ...                ...   \n",
       "551             0                      0.00%                  0   \n",
       "552             0                      0.00%                  0   \n",
       "553            35                     92.00%                 16   \n",
       "554            33                     87.00%                  2   \n",
       "555            34                     89.00%                 11   \n",
       "\n",
       "    Percentage of full games played  Games started  ... Corners  Tackles.1  \\\n",
       "0                             0.00%              0  ...       0          0   \n",
       "1                             0.00%              0  ...       0          0   \n",
       "2                            82.00%             31  ...       0          0   \n",
       "3                            18.00%              7  ...       0          0   \n",
       "4                            29.00%             11  ...       0         15   \n",
       "..                              ...            ...  ...     ...        ...   \n",
       "551                           0.00%              0  ...       0          0   \n",
       "552                           0.00%              0  ...       0          0   \n",
       "553                          42.00%             25  ...       0         23   \n",
       "554                           5.00%             12  ...       1          4   \n",
       "555                          29.00%             24  ...       0         11   \n",
       "\n",
       "    Duels  Man-to-man duels  Aerial duels  Passes  Short passes  Long passes  \\\n",
       "0       0                 0             0     0.0           0.0            0   \n",
       "1       0                 0             0     0.0           0.0            0   \n",
       "2      25                 6            19   887.0         128.0          759   \n",
       "3       3                 2             1   155.0          49.0          106   \n",
       "4     107                38            69   536.0         457.0           78   \n",
       "..    ...               ...           ...     ...           ...          ...   \n",
       "551     0                 0             0     0.0           0.0            0   \n",
       "552     0                 0             0     0.0           0.0            0   \n",
       "553   344               219           125   740.0         676.0           59   \n",
       "554   127                80            47   270.0         252.0           16   \n",
       "555   268               187            81   501.0         477.0           23   \n",
       "\n",
       "     Through balls  Goals scored per attempt  \n",
       "0                0                         0  \n",
       "1                0                         0  \n",
       "2                1                         0  \n",
       "3                0                         0  \n",
       "4                1                         0  \n",
       "..             ...                       ...  \n",
       "551              0                         0  \n",
       "552              0                         0  \n",
       "553              5                         6  \n",
       "554              2                         5  \n",
       "555              1                         5  \n",
       "\n",
       "[556 rows x 62 columns]"
      ]
     },
     "execution_count": 103,
     "metadata": {},
     "output_type": "execute_result"
    }
   ],
   "source": [
    "import matplotlib.pyplot as plt\n",
    "lali"
   ]
  },
  {
   "cell_type": "code",
   "execution_count": 94,
   "id": "4b2e96a4",
   "metadata": {},
   "outputs": [
    {
     "data": {
      "text/plain": [
       "Team\n",
       "Rayo Vallecano    8\n",
       "Levante UD        7\n",
       "Getafe CF         6\n",
       "RC Celta          6\n",
       "Real Madrid       6\n",
       "Name: Red Cards, dtype: int64"
      ]
     },
     "execution_count": 94,
     "metadata": {},
     "output_type": "execute_result"
    }
   ],
   "source": [
    "lali.groupby(\"Team\")[\"Red Cards\"].sum().nlargest(5)\n",
    "\n",
    "# This may also work (My solution)\n",
    "# lali.groupby(\"Team\")[\"Red Cards\"].sum().sort_values(ascending=False).head(5)"
   ]
  },
  {
   "cell_type": "code",
   "execution_count": 101,
   "id": "40615fa9",
   "metadata": {},
   "outputs": [
    {
     "data": {
      "text/plain": [
       "Position\n",
       "Goalkeeper    242.157895\n",
       "Defender      102.610811\n",
       "Midfielder     60.445455\n",
       "Forward        23.787234\n",
       "Name: Long passes, dtype: float64"
      ]
     },
     "execution_count": 101,
     "metadata": {},
     "output_type": "execute_result"
    }
   ],
   "source": [
    "lali.groupby(\"Position\")[\"Long passes\"].mean().sort_values(ascending=False)"
   ]
  },
  {
   "cell_type": "code",
   "execution_count": 123,
   "id": "260a147c",
   "metadata": {},
   "outputs": [
    {
     "data": {
      "text/plain": [
       "<Figure size 1300x800 with 0 Axes>"
      ]
     },
     "execution_count": 123,
     "metadata": {},
     "output_type": "execute_result"
    },
    {
     "data": {
      "image/png": "[encoded data removed]",
      "text/plain": [
       "<Figure size 640x480 with 1 Axes>"
      ]
     },
     "metadata": {},
     "output_type": "display_data"
    },
    {
     "data": {
      "text/plain": [
       "<Figure size 1300x800 with 0 Axes>"
      ]
     },
     "metadata": {},
     "output_type": "display_data"
    }
   ],
   "source": [
    "lali.groupby(\"Shirt number\")[\"Goals scored\"].sum().plot.barh(title=\"Total Goals Scored by The Shirt Number\")\n",
    "plt.figure(figsize=(13,8))"
   ]
  },
  {
   "cell_type": "code",
   "execution_count": 129,
   "id": "078a17fd",
   "metadata": {},
   "outputs": [
    {
     "data": {
      "text/html": [
       "<div>\n",
       "<style scoped>\n",
       "    .dataframe tbody tr th:only-of-type {\n",
       "        vertical-align: middle;\n",
       "    }\n",
       "\n",
       "    .dataframe tbody tr th {\n",
       "        vertical-align: top;\n",
       "    }\n",
       "\n",
       "    .dataframe thead th {\n",
       "        text-align: right;\n",
       "    }\n",
       "</style>\n",
       "<table border=\"1\" class=\"dataframe\">\n",
       "  <thead>\n",
       "    <tr style=\"text-align: right;\">\n",
       "      <th></th>\n",
       "      <th>total</th>\n",
       "      <th>on_target</th>\n",
       "    </tr>\n",
       "    <tr>\n",
       "      <th>Team</th>\n",
       "      <th></th>\n",
       "      <th></th>\n",
       "    </tr>\n",
       "  </thead>\n",
       "  <tbody>\n",
       "    <tr>\n",
       "      <th>Athletic Club</th>\n",
       "      <td>332</td>\n",
       "      <td>151</td>\n",
       "    </tr>\n",
       "    <tr>\n",
       "      <th>Atlético de Madrid</th>\n",
       "      <td>339</td>\n",
       "      <td>159</td>\n",
       "    </tr>\n",
       "    <tr>\n",
       "      <th>CD Leganés</th>\n",
       "      <td>334</td>\n",
       "      <td>132</td>\n",
       "    </tr>\n",
       "    <tr>\n",
       "      <th>D. Alavés</th>\n",
       "      <td>299</td>\n",
       "      <td>109</td>\n",
       "    </tr>\n",
       "    <tr>\n",
       "      <th>FC Barcelona</th>\n",
       "      <td>445</td>\n",
       "      <td>249</td>\n",
       "    </tr>\n",
       "    <tr>\n",
       "      <th>Getafe CF</th>\n",
       "      <td>283</td>\n",
       "      <td>121</td>\n",
       "    </tr>\n",
       "    <tr>\n",
       "      <th>Girona FC</th>\n",
       "      <td>324</td>\n",
       "      <td>147</td>\n",
       "    </tr>\n",
       "    <tr>\n",
       "      <th>Levante UD</th>\n",
       "      <td>314</td>\n",
       "      <td>157</td>\n",
       "    </tr>\n",
       "    <tr>\n",
       "      <th>R. Valladolid CF</th>\n",
       "      <td>319</td>\n",
       "      <td>131</td>\n",
       "    </tr>\n",
       "    <tr>\n",
       "      <th>RC Celta</th>\n",
       "      <td>329</td>\n",
       "      <td>159</td>\n",
       "    </tr>\n",
       "    <tr>\n",
       "      <th>RCD Espanyol</th>\n",
       "      <td>333</td>\n",
       "      <td>144</td>\n",
       "    </tr>\n",
       "    <tr>\n",
       "      <th>Rayo Vallecano</th>\n",
       "      <td>337</td>\n",
       "      <td>151</td>\n",
       "    </tr>\n",
       "    <tr>\n",
       "      <th>Real Betis</th>\n",
       "      <td>300</td>\n",
       "      <td>158</td>\n",
       "    </tr>\n",
       "    <tr>\n",
       "      <th>Real Madrid</th>\n",
       "      <td>448</td>\n",
       "      <td>216</td>\n",
       "    </tr>\n",
       "    <tr>\n",
       "      <th>Real Sociedad</th>\n",
       "      <td>333</td>\n",
       "      <td>144</td>\n",
       "    </tr>\n",
       "    <tr>\n",
       "      <th>SD Eibar</th>\n",
       "      <td>422</td>\n",
       "      <td>153</td>\n",
       "    </tr>\n",
       "    <tr>\n",
       "      <th>SD Huesca</th>\n",
       "      <td>343</td>\n",
       "      <td>142</td>\n",
       "    </tr>\n",
       "    <tr>\n",
       "      <th>Sevilla FC</th>\n",
       "      <td>401</td>\n",
       "      <td>178</td>\n",
       "    </tr>\n",
       "    <tr>\n",
       "      <th>Valencia CF</th>\n",
       "      <td>381</td>\n",
       "      <td>165</td>\n",
       "    </tr>\n",
       "    <tr>\n",
       "      <th>Villarreal CF</th>\n",
       "      <td>354</td>\n",
       "      <td>172</td>\n",
       "    </tr>\n",
       "  </tbody>\n",
       "</table>\n",
       "</div>"
      ],
      "text/plain": [
       "                    total  on_target\n",
       "Team                                \n",
       "Athletic Club         332        151\n",
       "Atlético de Madrid    339        159\n",
       "CD Leganés            334        132\n",
       "D. Alavés             299        109\n",
       "FC Barcelona          445        249\n",
       "Getafe CF             283        121\n",
       "Girona FC             324        147\n",
       "Levante UD            314        157\n",
       "R. Valladolid CF      319        131\n",
       "RC Celta              329        159\n",
       "RCD Espanyol          333        144\n",
       "Rayo Vallecano        337        151\n",
       "Real Betis            300        158\n",
       "Real Madrid           448        216\n",
       "Real Sociedad         333        144\n",
       "SD Eibar              422        153\n",
       "SD Huesca             343        142\n",
       "Sevilla FC            401        178\n",
       "Valencia CF           381        165\n",
       "Villarreal CF         354        172"
      ]
     },
     "execution_count": 129,
     "metadata": {},
     "output_type": "execute_result"
    }
   ],
   "source": [
    "shots = lali.groupby(\"Team\").agg(\n",
    "    total=(\"Shots\", sum),\n",
    "    on_target=(\"Shots on target\", sum)\n",
    ")\n",
    "shots"
   ]
  },
  {
   "cell_type": "code",
   "execution_count": 137,
   "id": "dd1c3afe",
   "metadata": {},
   "outputs": [],
   "source": [
    "shots[\"accuracy\"] = shots[\"on_target\"] / shots[\"total\"]"
   ]
  },
  {
   "cell_type": "code",
   "execution_count": 147,
   "id": "1c136850",
   "metadata": {},
   "outputs": [
    {
     "data": {
      "text/plain": [
       "<AxesSubplot:title={'center':'Least Accurate Teams'}, ylabel='Team'>"
      ]
     },
     "execution_count": 147,
     "metadata": {},
     "output_type": "execute_result"
    },
    {
     "data": {
      "image/png": "[encoded data removed]",
      "text/plain": [
       "<Figure size 500x800 with 2 Axes>"
      ]
     },
     "metadata": {},
     "output_type": "display_data"
    }
   ],
   "source": [
    "plt.style.use(\"ggplot\")\n",
    "fig, axs = plt.subplots(2,1, figsize=(5,8), sharex=True)\n",
    "shots[\"accuracy\"].nlargest().sort_values(ascending=True).plot(\n",
    "    kind=\"barh\", \n",
    "    ax=axs[0],\n",
    "    color=\"green\",\n",
    "    title=\"Most Accurate Teams\")\n",
    "shots[\"accuracy\"].nsmallest().plot(\n",
    "    kind=\"barh\", \n",
    "    ax=axs[1],\n",
    "    color=\"red\",\n",
    "    title=\"Least Accurate Teams\")"
   ]
  },
  {
   "cell_type": "code",
   "execution_count": null,
   "id": "1c0d45d6",
   "metadata": {},
   "outputs": [],
   "source": []
  }
 ],
 "metadata": {
  "kernelspec": {
   "display_name": "Python 3",
   "language": "python",
   "name": "python3"
  },
  "language_info": {
   "codemirror_mode": {
    "name": "ipython",
    "version": 3
   },
   "file_extension": ".py",
   "mimetype": "text/x-python",
   "name": "python",
   "nbconvert_exporter": "python",
   "pygments_lexer": "ipython3",
   "version": "3.10.8"
  },
  "vscode": {
   "interpreter": {
    "hash": "72c4c0851369c706d3155995c11b28ff6effc87ed985ac9b468b7049cea669b1"
   }
  }
 },
 "nbformat": 4,
 "nbformat_minor": 5
}
